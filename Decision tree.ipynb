{
 "cells": [
  {
   "cell_type": "code",
   "execution_count": 1,
   "id": "2ea97c66",
   "metadata": {},
   "outputs": [],
   "source": [
    "import numpy as np\n",
    "import pandas as pd\n",
    "import random\n",
    "import re\n",
    "\n",
    "from sklearn.tree import DecisionTreeClassifier\n",
    "from sklearn.feature_extraction.text import TfidfVectorizer\n",
    "from sklearn.model_selection import train_test_split\n",
    "from sklearn.metrics import accuracy_score, precision_score, recall_score, f1_score"
   ]
  },
  {
   "cell_type": "code",
   "execution_count": 3,
   "id": "74e750a9",
   "metadata": {},
   "outputs": [
    {
     "name": "stdout",
     "output_type": "stream",
     "text": [
      "                                                  domain  label\n",
      "0      nobell.it/70ffb52d079109dca5664cce6f317373782/...      1\n",
      "1      www.dghjdgf.com/paypal.co.uk/cycgi-bin/webscrc...      1\n",
      "2      serviciosbys.com/paypal.cgi.bin.get-into.herf....      1\n",
      "3      mail.printakid.com/www.online.americanexpress....      1\n",
      "4      thewhiskeydregs.com/wp-content/themes/widescre...      1\n",
      "...                                                  ...    ...\n",
      "95906            xbox360.ign.com/objects/850/850402.html      0\n",
      "95907       games.teamxbox.com/xbox-360/1860/Dead-Space/      0\n",
      "95908         www.gamespot.com/xbox360/action/deadspace/      0\n",
      "95909      en.wikipedia.org/wiki/Dead_Space_(video_game)      0\n",
      "95910          www.angelfire.com/goth/devilmaycrytonite/      0\n",
      "\n",
      "[95911 rows x 2 columns]\n"
     ]
    }
   ],
   "source": [
    "urldata=pd.read_csv('cleaned_dataset.csv')\n",
    "print(urldata)"
   ]
  },
  {
   "cell_type": "code",
   "execution_count": 4,
   "id": "d694cbed",
   "metadata": {},
   "outputs": [],
   "source": [
    "def makeTokens(f):\n",
    "    tkns_BySlash = str(f.encode('utf-8')).split('/')\t# make tokens after splitting by slash\n",
    "    total_Tokens = []\n",
    "    for i in tkns_BySlash:\n",
    "        tokens = str(i).split('-')\t# make tokens after splitting by dash\n",
    "        tkns_ByDot = []\n",
    "        for j in range(0,len(tokens)):\n",
    "            temp_Tokens = str(tokens[j]).split('.')\t# make tokens after splitting by dot\n",
    "            tkns_ByDot = tkns_ByDot + temp_Tokens\n",
    "        total_Tokens = total_Tokens + tokens + tkns_ByDot\n",
    "    total_Tokens = list(set(total_Tokens))\t#remove redundant tokens\n",
    "    if 'com' in total_Tokens:\n",
    "        total_Tokens.remove('com')\t#removing .com since it occurs a lot of times and it should not be included in our features\n",
    "    return total_Tokens"
   ]
  },
  {
   "cell_type": "code",
   "execution_count": 5,
   "id": "93e9b56d",
   "metadata": {},
   "outputs": [],
   "source": [
    "y=urldata['label']"
   ]
  },
  {
   "cell_type": "code",
   "execution_count": 6,
   "id": "5a60f7ce",
   "metadata": {},
   "outputs": [
    {
     "name": "stdout",
     "output_type": "stream",
     "text": [
      "0        nobell.it/70ffb52d079109dca5664cce6f317373782/...\n",
      "1        www.dghjdgf.com/paypal.co.uk/cycgi-bin/webscrc...\n",
      "2        serviciosbys.com/paypal.cgi.bin.get-into.herf....\n",
      "3        mail.printakid.com/www.online.americanexpress....\n",
      "4        thewhiskeydregs.com/wp-content/themes/widescre...\n",
      "                               ...                        \n",
      "95906              xbox360.ign.com/objects/850/850402.html\n",
      "95907         games.teamxbox.com/xbox-360/1860/Dead-Space/\n",
      "95908           www.gamespot.com/xbox360/action/deadspace/\n",
      "95909        en.wikipedia.org/wiki/Dead_Space_(video_game)\n",
      "95910            www.angelfire.com/goth/devilmaycrytonite/\n",
      "Name: domain, Length: 95911, dtype: object\n"
     ]
    }
   ],
   "source": [
    "url_list=urldata['domain']\n",
    "print(url_list)"
   ]
  },
  {
   "cell_type": "code",
   "execution_count": 7,
   "id": "a119265d",
   "metadata": {},
   "outputs": [],
   "source": [
    "vectorizer = TfidfVectorizer(tokenizer=makeTokens)"
   ]
  },
  {
   "cell_type": "code",
   "execution_count": 8,
   "id": "d5b579eb",
   "metadata": {},
   "outputs": [],
   "source": [
    "X = vectorizer.fit_transform(url_list)"
   ]
  },
  {
   "cell_type": "code",
   "execution_count": 9,
   "id": "e768c3fa",
   "metadata": {},
   "outputs": [
    {
     "name": "stdout",
     "output_type": "stream",
     "text": [
      "  (0, 135326)\t0.25018572664439087\n",
      "  (0, 100975)\t0.09586009647510704\n",
      "  (0, 145085)\t0.2538498869938846\n",
      "  (0, 9933)\t0.18794547662820124\n",
      "  (0, 119031)\t0.24701168657647968\n",
      "  (0, 138078)\t0.12784957739598748\n",
      "  (0, 184976)\t0.22773588222844793\n",
      "  (0, 123849)\t0.2054332208926776\n",
      "  (0, 193167)\t0.17507171382736572\n",
      "  (0, 198204)\t0.15685980439722166\n",
      "  (0, 94887)\t0.09818175345028217\n",
      "  (0, 116169)\t0.09265521298828976\n",
      "  (0, 22015)\t0.2538498869938846\n",
      "  (0, 12617)\t0.2538498869938846\n",
      "  (0, 147167)\t0.25018572664439087\n",
      "  (0, 2235)\t0.2538498869938846\n",
      "  (0, 134783)\t0.07951294066568701\n",
      "  (0, 53007)\t0.25018572664439087\n",
      "  (0, 53008)\t0.25018572664439087\n",
      "  (0, 12620)\t0.2799638917593214\n",
      "  (0, 145328)\t0.0757735377516374\n",
      "  (0, 164551)\t0.2180979800544321\n",
      "  (0, 145086)\t0.2538498869938846\n",
      "  (1, 103403)\t0.14207021903598643\n",
      "  (1, 66059)\t0.061735612190191184\n",
      "  :\t:\n",
      "  (95907, 109422)\t0.41655586924868127\n",
      "  (95907, 7820)\t0.333081622161234\n",
      "  (95907, 43639)\t0.27382404006005717\n",
      "  (95907, 4222)\t0.44359238802784895\n",
      "  (95907, 186202)\t0.33710636989004134\n",
      "  (95907, 220)\t0.08246678935909532\n",
      "  (95908, 109446)\t0.5816589491920762\n",
      "  (95908, 206149)\t0.4821528808669515\n",
      "  (95908, 73870)\t0.37114632860011665\n",
      "  (95908, 123396)\t0.37045561746644845\n",
      "  (95908, 22208)\t0.36811148057772497\n",
      "  (95908, 220)\t0.10441170687675434\n",
      "  (95908, 66059)\t0.08835518029314156\n",
      "  (95909, 109423)\t0.6840958464707512\n",
      "  (95909, 41399)\t0.35903416817304623\n",
      "  (95909, 203658)\t0.3571261831726267\n",
      "  (95909, 203609)\t0.34709534808777853\n",
      "  (95909, 41355)\t0.34639765416846613\n",
      "  (95909, 160170)\t0.18735451086300092\n",
      "  (95910, 110473)\t0.6708815299902231\n",
      "  (95910, 125265)\t0.5852087174111364\n",
      "  (95910, 25068)\t0.3021262880892101\n",
      "  (95910, 67213)\t0.3021262880892101\n",
      "  (95910, 220)\t0.12042776227489342\n",
      "  (95910, 66059)\t0.10190827222715121\n"
     ]
    }
   ],
   "source": [
    "print(X)"
   ]
  },
  {
   "cell_type": "code",
   "execution_count": 10,
   "id": "412b3b4b",
   "metadata": {},
   "outputs": [],
   "source": [
    "X_train,X_test,y_train,y_test=train_test_split(X, y, test_size=0.2, random_state=42)"
   ]
  },
  {
   "cell_type": "code",
   "execution_count": 11,
   "id": "3b7cdaf1",
   "metadata": {},
   "outputs": [
    {
     "data": {
      "text/plain": [
       "DecisionTreeClassifier()"
      ]
     },
     "execution_count": 11,
     "metadata": {},
     "output_type": "execute_result"
    }
   ],
   "source": [
    "clf = DecisionTreeClassifier()\n",
    "clf.fit(X_train, y_train)\n"
   ]
  },
  {
   "cell_type": "code",
   "execution_count": 12,
   "id": "530a2714",
   "metadata": {},
   "outputs": [],
   "source": [
    "# Make predictions\n",
    "y_pred = clf.predict(X_test)"
   ]
  },
  {
   "cell_type": "code",
   "execution_count": 13,
   "id": "808cdf07",
   "metadata": {},
   "outputs": [
    {
     "name": "stdout",
     "output_type": "stream",
     "text": [
      "Accuracy: 0.9441693165823907\n"
     ]
    }
   ],
   "source": [
    "# Evaluate the model\n",
    "accuracy = accuracy_score(y_test, y_pred)\n",
    "print(f'Accuracy: {accuracy}')"
   ]
  },
  {
   "cell_type": "code",
   "execution_count": 14,
   "id": "67db4d41",
   "metadata": {},
   "outputs": [
    {
     "name": "stdout",
     "output_type": "stream",
     "text": [
      "              precision    recall  f1-score   support\n",
      "\n",
      "           0       0.94      0.95      0.94      9523\n",
      "           1       0.95      0.94      0.94      9660\n",
      "\n",
      "    accuracy                           0.94     19183\n",
      "   macro avg       0.94      0.94      0.94     19183\n",
      "weighted avg       0.94      0.94      0.94     19183\n",
      "\n"
     ]
    }
   ],
   "source": [
    "from sklearn.metrics import classification_report\n",
    "print(classification_report(y_test, y_pred))"
   ]
  },
  {
   "cell_type": "code",
   "execution_count": 21,
   "id": "6644a64c",
   "metadata": {},
   "outputs": [
    {
     "data": {
      "text/plain": [
       "array([[9029,  494],\n",
       "       [ 577, 9083]], dtype=int64)"
      ]
     },
     "execution_count": 21,
     "metadata": {},
     "output_type": "execute_result"
    }
   ],
   "source": [
    "from sklearn.metrics import confusion_matrix\n",
    "cm=confusion_matrix(y_test,y_pred)\n",
    "cm"
   ]
  },
  {
   "cell_type": "code",
   "execution_count": 16,
   "id": "84299c78",
   "metadata": {},
   "outputs": [
    {
     "name": "stdout",
     "output_type": "stream",
     "text": [
      "9029\n",
      "494\n",
      "577\n",
      "9083\n"
     ]
    }
   ],
   "source": [
    "tn,fp,fn,tp=cm.ravel()#true negative,false positive,false negative,true positive\n",
    "print(tn)\n",
    "print(fp)\n",
    "print(fn)\n",
    "print(tp)"
   ]
  },
  {
   "cell_type": "code",
   "execution_count": 17,
   "id": "018f593f",
   "metadata": {},
   "outputs": [
    {
     "name": "stdout",
     "output_type": "stream",
     "text": [
      "0.9484180849953012\n",
      "0.9399333749739746\n"
     ]
    }
   ],
   "source": [
    "precision_1=tp/(tp+fp) \n",
    "precision_0=tn/(tn+fn)\n",
    "print(precision_1)\n",
    "print(precision_0)"
   ]
  },
  {
   "cell_type": "code",
   "execution_count": 18,
   "id": "a66503ea",
   "metadata": {},
   "outputs": [
    {
     "name": "stdout",
     "output_type": "stream",
     "text": [
      "0.9402691511387163\n",
      "0.9481255906752074\n"
     ]
    }
   ],
   "source": [
    "recall_1=(tp)/(tp+fn)\n",
    "print(recall_1)\n",
    "recall_0=(tn)/(tn+fp)\n",
    "print(recall_0)"
   ]
  },
  {
   "cell_type": "code",
   "execution_count": 19,
   "id": "af2e2fb5",
   "metadata": {},
   "outputs": [
    {
     "data": {
      "text/plain": [
       "0.9441693165823907"
      ]
     },
     "execution_count": 19,
     "metadata": {},
     "output_type": "execute_result"
    }
   ],
   "source": [
    "accuracy=(tp+tn)/(tp+tn+fp+fn)\n",
    "accuracy"
   ]
  },
  {
   "cell_type": "code",
   "execution_count": 20,
   "id": "7cd5c692",
   "metadata": {},
   "outputs": [
    {
     "name": "stdout",
     "output_type": "stream",
     "text": [
      "0.9440117099691567\n",
      "0.9443260383635701\n"
     ]
    }
   ],
   "source": [
    "f1score_0=2*((precision_0*recall_0)/(precision_0+recall_0))\n",
    "print(f1score_0)\n",
    "f1score_1=2*((precision_1*recall_1)/(precision_1+recall_1))\n",
    "print(f1score_1)"
   ]
  },
  {
   "cell_type": "code",
   "execution_count": 22,
   "id": "c027b6d6",
   "metadata": {},
   "outputs": [],
   "source": [
    "support_1=9660\n",
    "support_0=9523"
   ]
  },
  {
   "cell_type": "code",
   "execution_count": 23,
   "id": "ae481c10",
   "metadata": {},
   "outputs": [
    {
     "name": "stdout",
     "output_type": "stream",
     "text": [
      "0.9441688741663634\n",
      "0.94416999659221\n"
     ]
    }
   ],
   "source": [
    "macro_avg=(f1score_0+f1score_1)/2\n",
    "weighted_avg=(f1score_0*support_0+f1score_1*support_1)/(support_1+support_0)\n",
    "print(macro_avg)\n",
    "print(weighted_avg)"
   ]
  },
  {
   "cell_type": "code",
   "execution_count": null,
   "id": "1a2b208e",
   "metadata": {},
   "outputs": [],
   "source": []
  }
 ],
 "metadata": {
  "kernelspec": {
   "display_name": "Python 3 (ipykernel)",
   "language": "python",
   "name": "python3"
  },
  "language_info": {
   "codemirror_mode": {
    "name": "ipython",
    "version": 3
   },
   "file_extension": ".py",
   "mimetype": "text/x-python",
   "name": "python",
   "nbconvert_exporter": "python",
   "pygments_lexer": "ipython3",
   "version": "3.9.13"
  }
 },
 "nbformat": 4,
 "nbformat_minor": 5
}

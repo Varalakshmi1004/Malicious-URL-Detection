{
 "cells": [
  {
   "cell_type": "code",
   "execution_count": 15,
   "id": "24022feb",
   "metadata": {},
   "outputs": [],
   "source": [
    "import numpy as np\n",
    "import pandas as pd\n",
    "import random\n",
    "\n",
    "from sklearn.linear_model import LogisticRegression\n",
    "from sklearn.feature_extraction.text import TfidfVectorizer\n",
    "from sklearn.model_selection import train_test_split\n",
    "from sklearn.neighbors import KNeighborsClassifier\n",
    "from sklearn.metrics import accuracy_score, confusion_matrix,classification_report"
   ]
  },
  {
   "cell_type": "code",
   "execution_count": 16,
   "id": "d2305ec5",
   "metadata": {},
   "outputs": [],
   "source": [
    "urldata = pd.read_csv('cleaned_dataset.csv')"
   ]
  },
  {
   "cell_type": "code",
   "execution_count": 3,
   "id": "c13ab411",
   "metadata": {},
   "outputs": [],
   "source": [
    "def makeTokens(f):\n",
    "    tkns_BySlash = str(f.encode('utf-8')).split('/')\t# make tokens after splitting by slash\n",
    "    total_Tokens = []\n",
    "    for i in tkns_BySlash:\n",
    "        tokens = str(i).split('-')\t# make tokens after splitting by dash\n",
    "        tkns_ByDot = []\n",
    "        for j in range(0,len(tokens)):\n",
    "            temp_Tokens = str(tokens[j]).split('.')\t# make tokens after splitting by dot\n",
    "            tkns_ByDot = tkns_ByDot + temp_Tokens\n",
    "        total_Tokens = total_Tokens + tokens + tkns_ByDot\n",
    "    total_Tokens = list(set(total_Tokens))\t#remove redundant tokens\n",
    "    if 'com' in total_Tokens:\n",
    "        total_Tokens.remove('com')\t#removing .com since it occurs a lot of times and it should not be included in our features\n",
    "    return total_Tokens"
   ]
  },
  {
   "cell_type": "code",
   "execution_count": 4,
   "id": "7b79b97f",
   "metadata": {},
   "outputs": [],
   "source": [
    "y=urldata['label']"
   ]
  },
  {
   "cell_type": "code",
   "execution_count": 5,
   "id": "c6c54f99",
   "metadata": {},
   "outputs": [
    {
     "name": "stdout",
     "output_type": "stream",
     "text": [
      "0        nobell.it/70ffb52d079109dca5664cce6f317373782/...\n",
      "1        www.dghjdgf.com/paypal.co.uk/cycgi-bin/webscrc...\n",
      "2        serviciosbys.com/paypal.cgi.bin.get-into.herf....\n",
      "3        mail.printakid.com/www.online.americanexpress....\n",
      "4        thewhiskeydregs.com/wp-content/themes/widescre...\n",
      "                               ...                        \n",
      "95906              xbox360.ign.com/objects/850/850402.html\n",
      "95907         games.teamxbox.com/xbox-360/1860/Dead-Space/\n",
      "95908           www.gamespot.com/xbox360/action/deadspace/\n",
      "95909        en.wikipedia.org/wiki/Dead_Space_(video_game)\n",
      "95910            www.angelfire.com/goth/devilmaycrytonite/\n",
      "Name: domain, Length: 95911, dtype: object\n"
     ]
    }
   ],
   "source": [
    "url_list=urldata['domain']\n",
    "print(url_list)"
   ]
  },
  {
   "cell_type": "code",
   "execution_count": 7,
   "id": "dd165621",
   "metadata": {},
   "outputs": [],
   "source": [
    "vectorizer = TfidfVectorizer(tokenizer=makeTokens)\n",
    "# Store vectors into X variable as Our XFeatures\n",
    "X = vectorizer.fit_transform(url_list)"
   ]
  },
  {
   "cell_type": "code",
   "execution_count": 8,
   "id": "eebdcab3",
   "metadata": {},
   "outputs": [],
   "source": [
    "X_train,X_test,y_train,y_test=train_test_split(X, y, test_size=0.2, random_state=42)"
   ]
  },
  {
   "cell_type": "code",
   "execution_count": 11,
   "id": "f8de07b5",
   "metadata": {},
   "outputs": [
    {
     "data": {
      "text/plain": [
       "KNeighborsClassifier()"
      ]
     },
     "execution_count": 11,
     "metadata": {},
     "output_type": "execute_result"
    }
   ],
   "source": [
    "model=KNeighborsClassifier(n_neighbors=5)\n",
    "model.fit(X_train,y_train)"
   ]
  },
  {
   "cell_type": "code",
   "execution_count": 12,
   "id": "1af45353",
   "metadata": {},
   "outputs": [
    {
     "name": "stderr",
     "output_type": "stream",
     "text": [
      "C:\\Users\\Varam\\anaconda3\\lib\\site-packages\\sklearn\\neighbors\\_classification.py:228: FutureWarning: Unlike other reduction functions (e.g. `skew`, `kurtosis`), the default behavior of `mode` typically preserves the axis it acts along. In SciPy 1.11.0, this behavior will change: the default value of `keepdims` will become False, the `axis` over which the statistic is taken will be eliminated, and the value None will no longer be accepted. Set `keepdims` to True or False to avoid this warning.\n",
      "  mode, _ = stats.mode(_y[neigh_ind, k], axis=1)\n"
     ]
    },
    {
     "data": {
      "text/plain": [
       "array([0, 0, 0, ..., 0, 1, 0], dtype=int64)"
      ]
     },
     "execution_count": 12,
     "metadata": {},
     "output_type": "execute_result"
    }
   ],
   "source": [
    "y_pred=model.predict(X_test)\n",
    "y_pred"
   ]
  },
  {
   "cell_type": "code",
   "execution_count": 13,
   "id": "0deb236a",
   "metadata": {},
   "outputs": [
    {
     "data": {
      "text/plain": [
       "0.9534483657404994"
      ]
     },
     "execution_count": 13,
     "metadata": {},
     "output_type": "execute_result"
    }
   ],
   "source": [
    "accuracy=accuracy_score(y_test,y_pred)\n",
    "accuracy"
   ]
  },
  {
   "cell_type": "code",
   "execution_count": 17,
   "id": "40a96e24",
   "metadata": {},
   "outputs": [
    {
     "name": "stdout",
     "output_type": "stream",
     "text": [
      "9155\n",
      "9135\n",
      "388\n",
      "505\n"
     ]
    }
   ],
   "source": [
    "cm=confusion_matrix(y_test,y_pred)\n",
    "tn,fp,fn,tp=cm.ravel()\n",
    "print(tp)\n",
    "print(tn)\n",
    "print(fp)\n",
    "print(fn)"
   ]
  },
  {
   "cell_type": "code",
   "execution_count": 18,
   "id": "48fda922",
   "metadata": {},
   "outputs": [
    {
     "name": "stdout",
     "output_type": "stream",
     "text": [
      "[[9135  388]\n",
      " [ 505 9155]]\n"
     ]
    }
   ],
   "source": [
    "print(cm)"
   ]
  },
  {
   "cell_type": "code",
   "execution_count": 19,
   "id": "0cdf9e53",
   "metadata": {},
   "outputs": [
    {
     "name": "stdout",
     "output_type": "stream",
     "text": [
      "0.9593419260190715\n",
      "0.9476141078838174\n"
     ]
    }
   ],
   "source": [
    "precision_1=tp/(tp+fp) \n",
    "precision_0=tn/(tn+fn)\n",
    "print(precision_1)\n",
    "print(precision_0)"
   ]
  },
  {
   "cell_type": "code",
   "execution_count": 20,
   "id": "e7a0add0",
   "metadata": {},
   "outputs": [
    {
     "name": "stdout",
     "output_type": "stream",
     "text": [
      "0.9477225672877847\n",
      "0.9592565368056285\n"
     ]
    }
   ],
   "source": [
    "recall_1=(tp)/(tp+fn)\n",
    "print(recall_1)\n",
    "recall_0=(tn)/(tn+fp)\n",
    "print(recall_0)"
   ]
  },
  {
   "cell_type": "code",
   "execution_count": 21,
   "id": "c36da2e6",
   "metadata": {},
   "outputs": [
    {
     "data": {
      "text/plain": [
       "0.9534483657404994"
      ]
     },
     "execution_count": 21,
     "metadata": {},
     "output_type": "execute_result"
    }
   ],
   "source": [
    "accuracy=(tp+tn)/(tp+tn+fp+fn)\n",
    "accuracy"
   ]
  },
  {
   "cell_type": "code",
   "execution_count": 22,
   "id": "532aee4a",
   "metadata": {},
   "outputs": [
    {
     "name": "stdout",
     "output_type": "stream",
     "text": [
      "0.9533997808276365\n",
      "0.9534968494506066\n"
     ]
    }
   ],
   "source": [
    "f1score_0=2*((precision_0*recall_0)/(precision_0+recall_0))\n",
    "print(f1score_0)\n",
    "f1score_1=2*((precision_1*recall_1)/(precision_1+recall_1))\n",
    "print(f1score_1)\n"
   ]
  },
  {
   "cell_type": "code",
   "execution_count": 23,
   "id": "53a7f79d",
   "metadata": {},
   "outputs": [],
   "source": [
    "support_0=9523\n",
    "support_1=9660"
   ]
  },
  {
   "cell_type": "code",
   "execution_count": 24,
   "id": "72f2fac5",
   "metadata": {},
   "outputs": [
    {
     "name": "stdout",
     "output_type": "stream",
     "text": [
      "0.9534483151391215\n",
      "0.9534486617585594\n"
     ]
    }
   ],
   "source": [
    "macro_avg=(f1score_0+f1score_1)/2\n",
    "weighted_avg=(f1score_0*support_0+f1score_1*support_1)/(support_1+support_0)\n",
    "print(macro_avg)\n",
    "print(weighted_avg)"
   ]
  },
  {
   "cell_type": "code",
   "execution_count": 25,
   "id": "caf40037",
   "metadata": {},
   "outputs": [
    {
     "name": "stdout",
     "output_type": "stream",
     "text": [
      "              precision    recall  f1-score   support\n",
      "\n",
      "           0       0.95      0.96      0.95      9523\n",
      "           1       0.96      0.95      0.95      9660\n",
      "\n",
      "    accuracy                           0.95     19183\n",
      "   macro avg       0.95      0.95      0.95     19183\n",
      "weighted avg       0.95      0.95      0.95     19183\n",
      "\n"
     ]
    }
   ],
   "source": [
    "print(classification_report(y_test,y_pred))"
   ]
  },
  {
   "cell_type": "code",
   "execution_count": null,
   "id": "5966e349",
   "metadata": {},
   "outputs": [],
   "source": []
  }
 ],
 "metadata": {
  "kernelspec": {
   "display_name": "Python 3 (ipykernel)",
   "language": "python",
   "name": "python3"
  },
  "language_info": {
   "codemirror_mode": {
    "name": "ipython",
    "version": 3
   },
   "file_extension": ".py",
   "mimetype": "text/x-python",
   "name": "python",
   "nbconvert_exporter": "python",
   "pygments_lexer": "ipython3",
   "version": "3.9.13"
  }
 },
 "nbformat": 4,
 "nbformat_minor": 5
}

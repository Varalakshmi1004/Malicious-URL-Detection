{
 "cells": [
  {
   "cell_type": "code",
   "execution_count": 3,
   "id": "b14d7406",
   "metadata": {},
   "outputs": [],
   "source": [
    "import pandas as pd\n",
    "from sklearn.model_selection import train_test_split\n",
    "from sklearn.ensemble import RandomForestClassifier\n",
    "from sklearn.metrics import accuracy_score, classification_report\n",
    "from sklearn.preprocessing import OneHotEncoder"
   ]
  },
  {
   "cell_type": "code",
   "execution_count": 4,
   "id": "a921fa8c",
   "metadata": {},
   "outputs": [
    {
     "data": {
      "text/html": [
       "<div>\n",
       "<style scoped>\n",
       "    .dataframe tbody tr th:only-of-type {\n",
       "        vertical-align: middle;\n",
       "    }\n",
       "\n",
       "    .dataframe tbody tr th {\n",
       "        vertical-align: top;\n",
       "    }\n",
       "\n",
       "    .dataframe thead th {\n",
       "        text-align: right;\n",
       "    }\n",
       "</style>\n",
       "<table border=\"1\" class=\"dataframe\">\n",
       "  <thead>\n",
       "    <tr style=\"text-align: right;\">\n",
       "      <th></th>\n",
       "      <th>domain</th>\n",
       "      <th>label</th>\n",
       "    </tr>\n",
       "  </thead>\n",
       "  <tbody>\n",
       "    <tr>\n",
       "      <th>44210</th>\n",
       "      <td>ouled-kenitra.com/webscr.php?cmd=_login-run&amp;am...</td>\n",
       "      <td>1</td>\n",
       "    </tr>\n",
       "    <tr>\n",
       "      <th>74823</th>\n",
       "      <td>it.slashdot.org/article.pl?sid=05/04/30/1749205</td>\n",
       "      <td>0</td>\n",
       "    </tr>\n",
       "    <tr>\n",
       "      <th>32451</th>\n",
       "      <td>www.letras.edu.ar/shop/ext/pppp1/ID=d80a13ca0e...</td>\n",
       "      <td>1</td>\n",
       "    </tr>\n",
       "    <tr>\n",
       "      <th>89101</th>\n",
       "      <td>forums.delphiforums.com/apple2/</td>\n",
       "      <td>0</td>\n",
       "    </tr>\n",
       "    <tr>\n",
       "      <th>30884</th>\n",
       "      <td>www.oyunguncesi.com/wp-content/themes/twentyel...</td>\n",
       "      <td>1</td>\n",
       "    </tr>\n",
       "    <tr>\n",
       "      <th>...</th>\n",
       "      <td>...</td>\n",
       "      <td>...</td>\n",
       "    </tr>\n",
       "    <tr>\n",
       "      <th>92323</th>\n",
       "      <td>web.onetel.net.uk/~sharding/</td>\n",
       "      <td>0</td>\n",
       "    </tr>\n",
       "    <tr>\n",
       "      <th>85947</th>\n",
       "      <td>www.sonic.net/~mroeder/beowoof/installingLinux...</td>\n",
       "      <td>0</td>\n",
       "    </tr>\n",
       "    <tr>\n",
       "      <th>22680</th>\n",
       "      <td>youyoupzh.com/images/</td>\n",
       "      <td>1</td>\n",
       "    </tr>\n",
       "    <tr>\n",
       "      <th>77976</th>\n",
       "      <td>www.rebol.com/view-platforms.shtml</td>\n",
       "      <td>0</td>\n",
       "    </tr>\n",
       "    <tr>\n",
       "      <th>44996</th>\n",
       "      <td>www301.paypal.ca.41904.securessl-120.mx/js/web...</td>\n",
       "      <td>1</td>\n",
       "    </tr>\n",
       "  </tbody>\n",
       "</table>\n",
       "<p>2000 rows × 2 columns</p>\n",
       "</div>"
      ],
      "text/plain": [
       "                                                  domain  label\n",
       "44210  ouled-kenitra.com/webscr.php?cmd=_login-run&am...      1\n",
       "74823    it.slashdot.org/article.pl?sid=05/04/30/1749205      0\n",
       "32451  www.letras.edu.ar/shop/ext/pppp1/ID=d80a13ca0e...      1\n",
       "89101                    forums.delphiforums.com/apple2/      0\n",
       "30884  www.oyunguncesi.com/wp-content/themes/twentyel...      1\n",
       "...                                                  ...    ...\n",
       "92323                       web.onetel.net.uk/~sharding/      0\n",
       "85947  www.sonic.net/~mroeder/beowoof/installingLinux...      0\n",
       "22680                              youyoupzh.com/images/      1\n",
       "77976                 www.rebol.com/view-platforms.shtml      0\n",
       "44996  www301.paypal.ca.41904.securessl-120.mx/js/web...      1\n",
       "\n",
       "[2000 rows x 2 columns]"
      ]
     },
     "execution_count": 4,
     "metadata": {},
     "output_type": "execute_result"
    }
   ],
   "source": [
    "# Load your dataset\n",
    "data = pd.read_csv('cleaned_dataset.csv').sample(2000)\n",
    "data"
   ]
  },
  {
   "cell_type": "code",
   "execution_count": 5,
   "id": "6c402b9d",
   "metadata": {},
   "outputs": [],
   "source": [
    "# Assuming 'X' contains your features and 'y' contains your labels\n",
    "X = data.drop('label', axis=1)  # Drop the 'label' column to get features\n",
    "y = data['label']  # Extract the 'label' column as the target variable"
   ]
  },
  {
   "cell_type": "code",
   "execution_count": 6,
   "id": "8c5c894c",
   "metadata": {},
   "outputs": [],
   "source": [
    "categorical_cols = ['domain']  # Replace with your actual categorical feature names\n",
    "X_encoded = pd.get_dummies(X, columns=categorical_cols, drop_first=True)"
   ]
  },
  {
   "cell_type": "code",
   "execution_count": 7,
   "id": "2df38545",
   "metadata": {},
   "outputs": [],
   "source": [
    "# Split the data into training and testing sets\n",
    "X_train, X_test, y_train, y_test = train_test_split(X_encoded, y, test_size=0.2, random_state=42)"
   ]
  },
  {
   "cell_type": "code",
   "execution_count": 8,
   "id": "008fc488",
   "metadata": {},
   "outputs": [],
   "source": [
    "# Initialize the Random Forest classifier\n",
    "rf_classifier = RandomForestClassifier(n_estimators=100, random_state=42)"
   ]
  },
  {
   "cell_type": "code",
   "execution_count": 9,
   "id": "31259a9d",
   "metadata": {},
   "outputs": [
    {
     "data": {
      "text/plain": [
       "RandomForestClassifier(random_state=42)"
      ]
     },
     "execution_count": 9,
     "metadata": {},
     "output_type": "execute_result"
    }
   ],
   "source": [
    "# Train the classifier\n",
    "rf_classifier.fit(X_train, y_train)"
   ]
  },
  {
   "cell_type": "code",
   "execution_count": 10,
   "id": "b15ef2e2",
   "metadata": {},
   "outputs": [],
   "source": [
    "y_pred = rf_classifier.predict(X_test)"
   ]
  },
  {
   "cell_type": "code",
   "execution_count": 11,
   "id": "f1af5b6d",
   "metadata": {},
   "outputs": [
    {
     "name": "stdout",
     "output_type": "stream",
     "text": [
      "Accuracy: 0.5225\n"
     ]
    }
   ],
   "source": [
    "accuracy = accuracy_score(y_test, y_pred)\n",
    "print(f'Accuracy: {accuracy:.4f}')"
   ]
  },
  {
   "cell_type": "code",
   "execution_count": 12,
   "id": "c3312d24",
   "metadata": {},
   "outputs": [
    {
     "name": "stdout",
     "output_type": "stream",
     "text": [
      "              precision    recall  f1-score   support\n",
      "\n",
      "           0       0.00      0.00      0.00       191\n",
      "           1       0.52      1.00      0.69       209\n",
      "\n",
      "    accuracy                           0.52       400\n",
      "   macro avg       0.26      0.50      0.34       400\n",
      "weighted avg       0.27      0.52      0.36       400\n",
      "\n"
     ]
    },
    {
     "name": "stderr",
     "output_type": "stream",
     "text": [
      "C:\\Users\\Varam\\anaconda3\\lib\\site-packages\\sklearn\\metrics\\_classification.py:1318: UndefinedMetricWarning: Precision and F-score are ill-defined and being set to 0.0 in labels with no predicted samples. Use `zero_division` parameter to control this behavior.\n",
      "  _warn_prf(average, modifier, msg_start, len(result))\n",
      "C:\\Users\\Varam\\anaconda3\\lib\\site-packages\\sklearn\\metrics\\_classification.py:1318: UndefinedMetricWarning: Precision and F-score are ill-defined and being set to 0.0 in labels with no predicted samples. Use `zero_division` parameter to control this behavior.\n",
      "  _warn_prf(average, modifier, msg_start, len(result))\n",
      "C:\\Users\\Varam\\anaconda3\\lib\\site-packages\\sklearn\\metrics\\_classification.py:1318: UndefinedMetricWarning: Precision and F-score are ill-defined and being set to 0.0 in labels with no predicted samples. Use `zero_division` parameter to control this behavior.\n",
      "  _warn_prf(average, modifier, msg_start, len(result))\n"
     ]
    }
   ],
   "source": [
    "from sklearn.metrics import classification_report\n",
    "print(classification_report(y_test, y_pred))"
   ]
  },
  {
   "cell_type": "code",
   "execution_count": 13,
   "id": "2bf439c4",
   "metadata": {},
   "outputs": [
    {
     "data": {
      "text/plain": [
       "array([[  0, 191],\n",
       "       [  0, 209]], dtype=int64)"
      ]
     },
     "execution_count": 13,
     "metadata": {},
     "output_type": "execute_result"
    }
   ],
   "source": [
    "from sklearn.metrics import confusion_matrix\n",
    "cm=confusion_matrix(y_test,y_pred)\n",
    "cm"
   ]
  },
  {
   "cell_type": "code",
   "execution_count": 14,
   "id": "ccb993b5",
   "metadata": {},
   "outputs": [
    {
     "name": "stdout",
     "output_type": "stream",
     "text": [
      "0\n",
      "191\n",
      "0\n",
      "209\n"
     ]
    }
   ],
   "source": [
    "tn,fp,fn,tp=cm.ravel()#true negative,false positive,false negative,true positive\n",
    "print(tn)\n",
    "print(fp)\n",
    "print(fn)\n",
    "print(tp)"
   ]
  },
  {
   "cell_type": "code",
   "execution_count": 15,
   "id": "68976c5e",
   "metadata": {},
   "outputs": [
    {
     "name": "stdout",
     "output_type": "stream",
     "text": [
      "0.5225\n",
      "nan\n"
     ]
    },
    {
     "name": "stderr",
     "output_type": "stream",
     "text": [
      "C:\\Users\\Varam\\AppData\\Local\\Temp\\ipykernel_4872\\4159835644.py:2: RuntimeWarning: invalid value encountered in longlong_scalars\n",
      "  precision_0=tn/(tn+fn)\n"
     ]
    }
   ],
   "source": [
    "precision_1=tp/(tp+fp) \n",
    "precision_0=tn/(tn+fn)\n",
    "print(precision_1)\n",
    "print(precision_0)"
   ]
  },
  {
   "cell_type": "code",
   "execution_count": 16,
   "id": "7bb8248a",
   "metadata": {},
   "outputs": [
    {
     "name": "stdout",
     "output_type": "stream",
     "text": [
      "1.0\n",
      "0.0\n"
     ]
    }
   ],
   "source": [
    "recall_1=(tp)/(tp+fn)\n",
    "print(recall_1)\n",
    "recall_0=(tn)/(tn+fp)\n",
    "print(recall_0)"
   ]
  },
  {
   "cell_type": "code",
   "execution_count": 17,
   "id": "4a70e673",
   "metadata": {},
   "outputs": [
    {
     "data": {
      "text/plain": [
       "0.5225"
      ]
     },
     "execution_count": 17,
     "metadata": {},
     "output_type": "execute_result"
    }
   ],
   "source": [
    "accuracy=(tp+tn)/(tp+tn+fp+fn)\n",
    "accuracy"
   ]
  },
  {
   "cell_type": "code",
   "execution_count": 18,
   "id": "3631b023",
   "metadata": {},
   "outputs": [
    {
     "name": "stdout",
     "output_type": "stream",
     "text": [
      "nan\n",
      "0.6863711001642036\n"
     ]
    }
   ],
   "source": [
    "f1score_0=2*((precision_0*recall_0)/(precision_0+recall_0))\n",
    "print(f1score_0)\n",
    "f1score_1=2*((precision_1*recall_1)/(precision_1+recall_1))\n",
    "print(f1score_1)"
   ]
  },
  {
   "cell_type": "code",
   "execution_count": 19,
   "id": "89cc7b87",
   "metadata": {},
   "outputs": [],
   "source": [
    "support_0=191\n",
    "support_1=209"
   ]
  },
  {
   "cell_type": "code",
   "execution_count": 21,
   "id": "46c6e4ad",
   "metadata": {},
   "outputs": [
    {
     "name": "stdout",
     "output_type": "stream",
     "text": [
      "nan\n",
      "nan\n"
     ]
    }
   ],
   "source": [
    "macro_avg=(f1score_0+f1score_1)/2\n",
    "weighted_avg=(f1score_0*support_0+f1score_1*support_1)/(support_1+support_0)\n",
    "print(macro_avg)\n",
    "print(weighted_avg)"
   ]
  },
  {
   "cell_type": "code",
   "execution_count": null,
   "id": "ba6112ff",
   "metadata": {},
   "outputs": [],
   "source": []
  }
 ],
 "metadata": {
  "kernelspec": {
   "display_name": "Python 3 (ipykernel)",
   "language": "python",
   "name": "python3"
  },
  "language_info": {
   "codemirror_mode": {
    "name": "ipython",
    "version": 3
   },
   "file_extension": ".py",
   "mimetype": "text/x-python",
   "name": "python",
   "nbconvert_exporter": "python",
   "pygments_lexer": "ipython3",
   "version": "3.9.13"
  }
 },
 "nbformat": 4,
 "nbformat_minor": 5
}

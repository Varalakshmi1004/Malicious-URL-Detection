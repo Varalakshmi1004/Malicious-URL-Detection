{
 "cells": [
  {
   "cell_type": "code",
   "execution_count": 46,
   "id": "42b6b342",
   "metadata": {},
   "outputs": [],
   "source": [
    "import pandas as pd\n",
    "import numpy as np\n",
    "import random\n",
    "\n",
    "from sklearn.feature_extraction.text import TfidfVectorizer\n",
    "from sklearn.model_selection import train_test_split\n",
    "from sklearn.naive_bayes import MultinomialNB\n",
    "from sklearn.metrics import accuracy_score, classification_report,confusion_matrix"
   ]
  },
  {
   "cell_type": "code",
   "execution_count": 19,
   "id": "001d6dfc",
   "metadata": {},
   "outputs": [],
   "source": [
    "urldata = pd.read_csv('cleaned_dataset.csv')"
   ]
  },
  {
   "cell_type": "code",
   "execution_count": 20,
   "id": "49ab2964",
   "metadata": {},
   "outputs": [
    {
     "data": {
      "text/plain": [
       "(95911, 2)"
      ]
     },
     "execution_count": 20,
     "metadata": {},
     "output_type": "execute_result"
    }
   ],
   "source": [
    "urldata.shape"
   ]
  },
  {
   "cell_type": "code",
   "execution_count": 21,
   "id": "5a2c661c",
   "metadata": {},
   "outputs": [],
   "source": [
    "def makeTokens(f):\n",
    "    tkns_BySlash = str(f.encode('utf-8')).split('/')\t# make tokens after splitting by slash\n",
    "    total_Tokens = []\n",
    "    for i in tkns_BySlash:\n",
    "        tokens = str(i).split('-')\t# make tokens after splitting by dash\n",
    "        tkns_ByDot = []\n",
    "        for j in range(0,len(tokens)):\n",
    "            temp_Tokens = str(tokens[j]).split('.')\t# make tokens after splitting by dot\n",
    "            tkns_ByDot = tkns_ByDot + temp_Tokens\n",
    "        total_Tokens = total_Tokens + tokens + tkns_ByDot\n",
    "    total_Tokens = list(set(total_Tokens))\t#remove redundant tokens\n",
    "    if 'com' in total_Tokens:\n",
    "        total_Tokens.remove('com')\t#removing .com since it occurs a lot of times and it should not be included in our features\n",
    "    return total_Tokens"
   ]
  },
  {
   "cell_type": "code",
   "execution_count": 22,
   "id": "28481adc",
   "metadata": {},
   "outputs": [],
   "source": [
    "y=urldata['label']"
   ]
  },
  {
   "cell_type": "code",
   "execution_count": 23,
   "id": "05d45c51",
   "metadata": {},
   "outputs": [
    {
     "name": "stdout",
     "output_type": "stream",
     "text": [
      "0        nobell.it/70ffb52d079109dca5664cce6f317373782/...\n",
      "1        www.dghjdgf.com/paypal.co.uk/cycgi-bin/webscrc...\n",
      "2        serviciosbys.com/paypal.cgi.bin.get-into.herf....\n",
      "3        mail.printakid.com/www.online.americanexpress....\n",
      "4        thewhiskeydregs.com/wp-content/themes/widescre...\n",
      "                               ...                        \n",
      "95906              xbox360.ign.com/objects/850/850402.html\n",
      "95907         games.teamxbox.com/xbox-360/1860/Dead-Space/\n",
      "95908           www.gamespot.com/xbox360/action/deadspace/\n",
      "95909        en.wikipedia.org/wiki/Dead_Space_(video_game)\n",
      "95910            www.angelfire.com/goth/devilmaycrytonite/\n",
      "Name: domain, Length: 95911, dtype: object\n"
     ]
    }
   ],
   "source": [
    "url_list=urldata['domain']\n",
    "print(url_list)"
   ]
  },
  {
   "cell_type": "code",
   "execution_count": 25,
   "id": "68bfb921",
   "metadata": {},
   "outputs": [],
   "source": [
    "vectorizer = TfidfVectorizer(tokenizer=makeTokens)\n",
    "# Store vectors into X variable as Our XFeatures\n",
    "X = vectorizer.fit_transform(url_list)"
   ]
  },
  {
   "cell_type": "code",
   "execution_count": 26,
   "id": "ee1e5b74",
   "metadata": {},
   "outputs": [],
   "source": [
    "X_train,X_test,y_train,y_test=train_test_split(X, y, test_size=0.2, random_state=42)"
   ]
  },
  {
   "cell_type": "code",
   "execution_count": 28,
   "id": "0985812e",
   "metadata": {},
   "outputs": [
    {
     "data": {
      "text/plain": [
       "MultinomialNB()"
      ]
     },
     "execution_count": 28,
     "metadata": {},
     "output_type": "execute_result"
    }
   ],
   "source": [
    "model = MultinomialNB()\n",
    "model.fit(X_train, y_train)"
   ]
  },
  {
   "cell_type": "code",
   "execution_count": 30,
   "id": "e9bc070c",
   "metadata": {},
   "outputs": [
    {
     "data": {
      "text/plain": [
       "array([0, 0, 0, ..., 0, 1, 0], dtype=int64)"
      ]
     },
     "execution_count": 30,
     "metadata": {},
     "output_type": "execute_result"
    }
   ],
   "source": [
    "y_pred=model.predict(X_test)\n",
    "y_pred"
   ]
  },
  {
   "cell_type": "code",
   "execution_count": 32,
   "id": "d25db154",
   "metadata": {},
   "outputs": [
    {
     "data": {
      "text/plain": [
       "0.9696085075327112"
      ]
     },
     "execution_count": 32,
     "metadata": {},
     "output_type": "execute_result"
    }
   ],
   "source": [
    "accuracy=accuracy_score(y_test,y_pred)\n",
    "accuracy"
   ]
  },
  {
   "cell_type": "code",
   "execution_count": 34,
   "id": "85ea1686",
   "metadata": {},
   "outputs": [
    {
     "name": "stdout",
     "output_type": "stream",
     "text": [
      "9406\n",
      "9194\n",
      "329\n",
      "254\n"
     ]
    }
   ],
   "source": [
    "cm=confusion_matrix(y_test,y_pred)\n",
    "tn,fp,fn,tp=cm.ravel()\n",
    "print(tp)\n",
    "print(tn)\n",
    "print(fp)\n",
    "print(fn)"
   ]
  },
  {
   "cell_type": "code",
   "execution_count": 35,
   "id": "98e1f91d",
   "metadata": {},
   "outputs": [
    {
     "name": "stdout",
     "output_type": "stream",
     "text": [
      "[[9194  329]\n",
      " [ 254 9406]]\n"
     ]
    }
   ],
   "source": [
    "print(cm)"
   ]
  },
  {
   "cell_type": "code",
   "execution_count": 36,
   "id": "0b0115a3",
   "metadata": {},
   "outputs": [
    {
     "name": "stdout",
     "output_type": "stream",
     "text": [
      "0.9662044170518747\n",
      "0.9731160033869602\n"
     ]
    }
   ],
   "source": [
    "precision_1=tp/(tp+fp) \n",
    "precision_0=tn/(tn+fn)\n",
    "print(precision_1)\n",
    "print(precision_0)"
   ]
  },
  {
   "cell_type": "code",
   "execution_count": 37,
   "id": "7cf4f3ca",
   "metadata": {},
   "outputs": [
    {
     "name": "stdout",
     "output_type": "stream",
     "text": [
      "0.9737060041407868\n",
      "0.9654520634253911\n"
     ]
    }
   ],
   "source": [
    "recall_1=(tp)/(tp+fn)\n",
    "print(recall_1)\n",
    "recall_0=(tn)/(tn+fp)\n",
    "print(recall_0)"
   ]
  },
  {
   "cell_type": "code",
   "execution_count": 38,
   "id": "4927385a",
   "metadata": {},
   "outputs": [
    {
     "data": {
      "text/plain": [
       "0.9696085075327112"
      ]
     },
     "execution_count": 38,
     "metadata": {},
     "output_type": "execute_result"
    }
   ],
   "source": [
    "accuracy=(tp+tn)/(tp+tn+fp+fn)\n",
    "accuracy"
   ]
  },
  {
   "cell_type": "code",
   "execution_count": 39,
   "id": "c85e4277",
   "metadata": {},
   "outputs": [
    {
     "name": "stdout",
     "output_type": "stream",
     "text": [
      "0.9692688840862369\n"
     ]
    }
   ],
   "source": [
    "f1score_0=2*((precision_0*recall_0)/(precision_0+recall_0))\n",
    "print(f1score_0)"
   ]
  },
  {
   "cell_type": "code",
   "execution_count": 40,
   "id": "4cd108ca",
   "metadata": {},
   "outputs": [
    {
     "name": "stdout",
     "output_type": "stream",
     "text": [
      "0.9699407063676205\n"
     ]
    }
   ],
   "source": [
    "f1score_1=2*((precision_1*recall_1)/(precision_1+recall_1))\n",
    "print(f1score_1)\n"
   ]
  },
  {
   "cell_type": "code",
   "execution_count": 41,
   "id": "14417bb3",
   "metadata": {},
   "outputs": [],
   "source": [
    "support_0=9523\n",
    "support_1=9660"
   ]
  },
  {
   "cell_type": "code",
   "execution_count": 42,
   "id": "872d0ac4",
   "metadata": {},
   "outputs": [
    {
     "name": "stdout",
     "output_type": "stream",
     "text": [
      "0.9696047952269287\n",
      "0.9696071942169862\n"
     ]
    }
   ],
   "source": [
    "macro_avg=(f1score_0+f1score_1)/2\n",
    "weighted_avg=(f1score_0*support_0+f1score_1*support_1)/(support_1+support_0)\n",
    "print(macro_avg)\n",
    "print(weighted_avg)"
   ]
  },
  {
   "cell_type": "code",
   "execution_count": 45,
   "id": "102761ca",
   "metadata": {},
   "outputs": [
    {
     "name": "stdout",
     "output_type": "stream",
     "text": [
      "              precision    recall  f1-score   support\n",
      "\n",
      "           0       0.97      0.97      0.97      9523\n",
      "           1       0.97      0.97      0.97      9660\n",
      "\n",
      "    accuracy                           0.97     19183\n",
      "   macro avg       0.97      0.97      0.97     19183\n",
      "weighted avg       0.97      0.97      0.97     19183\n",
      "\n"
     ]
    }
   ],
   "source": [
    "print(classification_report(y_test,y_pred))"
   ]
  },
  {
   "cell_type": "code",
   "execution_count": null,
   "id": "66d30121",
   "metadata": {},
   "outputs": [],
   "source": []
  }
 ],
 "metadata": {
  "kernelspec": {
   "display_name": "Python 3 (ipykernel)",
   "language": "python",
   "name": "python3"
  },
  "language_info": {
   "codemirror_mode": {
    "name": "ipython",
    "version": 3
   },
   "file_extension": ".py",
   "mimetype": "text/x-python",
   "name": "python",
   "nbconvert_exporter": "python",
   "pygments_lexer": "ipython3",
   "version": "3.9.13"
  }
 },
 "nbformat": 4,
 "nbformat_minor": 5
}

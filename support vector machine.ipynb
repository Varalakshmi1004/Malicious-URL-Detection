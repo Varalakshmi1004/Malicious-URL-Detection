{
 "cells": [
  {
   "cell_type": "code",
   "execution_count": 2,
   "id": "09b6672a",
   "metadata": {},
   "outputs": [],
   "source": [
    "import pandas as pd\n",
    "from sklearn.feature_extraction.text import TfidfVectorizer\n",
    "from sklearn.model_selection import train_test_split\n",
    "from sklearn.svm import SVC\n",
    "from sklearn.metrics import accuracy_score, classification_report"
   ]
  },
  {
   "cell_type": "code",
   "execution_count": 3,
   "id": "3c720756",
   "metadata": {},
   "outputs": [],
   "source": [
    "# Load the dataset\n",
    "urldata = pd.read_csv('cleaned_dataset.csv').sample(30000)"
   ]
  },
  {
   "cell_type": "code",
   "execution_count": 4,
   "id": "dd0f033d",
   "metadata": {},
   "outputs": [],
   "source": [
    "y=urldata['label']"
   ]
  },
  {
   "cell_type": "code",
   "execution_count": 5,
   "id": "b0252b4b",
   "metadata": {},
   "outputs": [
    {
     "name": "stdout",
     "output_type": "stream",
     "text": [
      "71694        www.ociweb.com/cnb/CORBANewsBrief-200301.html\n",
      "32882       www.nembi.com.br/components/com_mailto/paypal/\n",
      "29155    'freebutterflyphotos.com/Remax-ion/Secure Logi...\n",
      "43212    www.lv.balticspark.org/wp-admin/images/ae/ws31...\n",
      "41610    '9d345009-a-62cb3a1a-s-sites.googlegroups.com/...\n",
      "                               ...                        \n",
      "12341    'www.kdaochsrwa.com/~hailagra/signin/enter_log...\n",
      "14081                            sing-in-e5bayloginss.com/\n",
      "8111               fun-dive.com/gps/?check=1i29901056.html\n",
      "52543                      math.illinoisstate.edu/actuary/\n",
      "29466    paypa.l.com.c.gi.bin.websicur.cmd.login.submit...\n",
      "Name: domain, Length: 30000, dtype: object\n"
     ]
    }
   ],
   "source": [
    "url_list=urldata['domain']\n",
    "print(url_list)"
   ]
  },
  {
   "cell_type": "code",
   "execution_count": 6,
   "id": "c3d7049e",
   "metadata": {},
   "outputs": [],
   "source": [
    "def makeTokens(f):\n",
    "    tkns_BySlash = str(f.encode('utf-8')).split('/')\t# make tokens after splitting by slash\n",
    "    total_Tokens = []\n",
    "    for i in tkns_BySlash:\n",
    "        tokens = str(i).split('-')\t# make tokens after splitting by dash\n",
    "        tkns_ByDot = []\n",
    "        for j in range(0,len(tokens)):\n",
    "            temp_Tokens = str(tokens[j]).split('.')\t# make tokens after splitting by dot\n",
    "            tkns_ByDot = tkns_ByDot + temp_Tokens\n",
    "        total_Tokens = total_Tokens + tokens + tkns_ByDot\n",
    "    total_Tokens = list(set(total_Tokens))\t#remove redundant tokens\n",
    "    if 'com' in total_Tokens:\n",
    "        total_Tokens.remove('com')\t#removing .com since it occurs a lot of times and it should not be included in our features\n",
    "    return total_Tokens"
   ]
  },
  {
   "cell_type": "code",
   "execution_count": 7,
   "id": "19b925eb",
   "metadata": {},
   "outputs": [],
   "source": [
    "vectorizer = TfidfVectorizer(tokenizer=makeTokens)"
   ]
  },
  {
   "cell_type": "code",
   "execution_count": 8,
   "id": "a0056017",
   "metadata": {},
   "outputs": [],
   "source": [
    "X = vectorizer.fit_transform(url_list)"
   ]
  },
  {
   "cell_type": "code",
   "execution_count": 9,
   "id": "da00823c",
   "metadata": {},
   "outputs": [],
   "source": [
    "X_train,X_test,y_train,y_test=train_test_split(X, y, test_size=0.2, random_state=42)"
   ]
  },
  {
   "cell_type": "code",
   "execution_count": 10,
   "id": "51c5bd7d",
   "metadata": {},
   "outputs": [
    {
     "data": {
      "text/plain": [
       "SVC(kernel='linear', random_state=0)"
      ]
     },
     "execution_count": 10,
     "metadata": {},
     "output_type": "execute_result"
    }
   ],
   "source": [
    "classifier = SVC(kernel='linear',random_state=0)\n",
    "classifier.fit(X_train,y_train)"
   ]
  },
  {
   "cell_type": "code",
   "execution_count": 11,
   "id": "bdcaf8a1",
   "metadata": {},
   "outputs": [
    {
     "data": {
      "text/plain": [
       "array([0, 1, 1, ..., 1, 1, 0], dtype=int64)"
      ]
     },
     "execution_count": 11,
     "metadata": {},
     "output_type": "execute_result"
    }
   ],
   "source": [
    "y_pred = classifier.predict(X_test)\n",
    "y_pred"
   ]
  },
  {
   "cell_type": "code",
   "execution_count": 12,
   "id": "1eec47af",
   "metadata": {},
   "outputs": [
    {
     "data": {
      "text/plain": [
       "0.9615"
      ]
     },
     "execution_count": 12,
     "metadata": {},
     "output_type": "execute_result"
    }
   ],
   "source": [
    "accuracy = accuracy_score(y_test,y_pred)\n",
    "accuracy"
   ]
  },
  {
   "cell_type": "code",
   "execution_count": 13,
   "id": "5a71ff92",
   "metadata": {},
   "outputs": [
    {
     "name": "stdout",
     "output_type": "stream",
     "text": [
      "              precision    recall  f1-score   support\n",
      "\n",
      "           0       0.95      0.97      0.96      3068\n",
      "           1       0.97      0.95      0.96      2932\n",
      "\n",
      "    accuracy                           0.96      6000\n",
      "   macro avg       0.96      0.96      0.96      6000\n",
      "weighted avg       0.96      0.96      0.96      6000\n",
      "\n"
     ]
    }
   ],
   "source": [
    "from sklearn.metrics import classification_report\n",
    "print(classification_report(y_test, y_pred))"
   ]
  },
  {
   "cell_type": "code",
   "execution_count": 20,
   "id": "edc635b8",
   "metadata": {},
   "outputs": [
    {
     "data": {
      "text/plain": [
       "array([[2986,   82],\n",
       "       [ 149, 2783]], dtype=int64)"
      ]
     },
     "execution_count": 20,
     "metadata": {},
     "output_type": "execute_result"
    }
   ],
   "source": [
    "from sklearn.metrics import confusion_matrix\n",
    "cm=confusion_matrix(y_test,y_pred)\n",
    "cm"
   ]
  },
  {
   "cell_type": "code",
   "execution_count": 15,
   "id": "7bb29da1",
   "metadata": {},
   "outputs": [
    {
     "name": "stdout",
     "output_type": "stream",
     "text": [
      "2986\n",
      "82\n",
      "149\n",
      "2783\n"
     ]
    }
   ],
   "source": [
    "tn,fp,fn,tp=cm.ravel()#true negative,false positive,false negative,true positive\n",
    "print(tn)\n",
    "print(fp)\n",
    "print(fn)\n",
    "print(tp)"
   ]
  },
  {
   "cell_type": "code",
   "execution_count": 16,
   "id": "c35d8b3c",
   "metadata": {},
   "outputs": [
    {
     "name": "stdout",
     "output_type": "stream",
     "text": [
      "0.9713787085514834\n",
      "0.9524720893141946\n"
     ]
    }
   ],
   "source": [
    "precision_1=tp/(tp+fp) \n",
    "precision_0=tn/(tn+fn)\n",
    "print(precision_1)\n",
    "print(precision_0)"
   ]
  },
  {
   "cell_type": "code",
   "execution_count": 17,
   "id": "8c233124",
   "metadata": {},
   "outputs": [
    {
     "name": "stdout",
     "output_type": "stream",
     "text": [
      "0.949181446111869\n",
      "0.9732724902216427\n"
     ]
    }
   ],
   "source": [
    "recall_1=(tp)/(tp+fn)\n",
    "print(recall_1)\n",
    "recall_0=(tn)/(tn+fp)\n",
    "print(recall_0)"
   ]
  },
  {
   "cell_type": "code",
   "execution_count": 18,
   "id": "e410b0b6",
   "metadata": {},
   "outputs": [
    {
     "data": {
      "text/plain": [
       "0.9615"
      ]
     },
     "execution_count": 18,
     "metadata": {},
     "output_type": "execute_result"
    }
   ],
   "source": [
    "accuracy=(tp+tn)/(tp+tn+fp+fn)\n",
    "accuracy"
   ]
  },
  {
   "cell_type": "code",
   "execution_count": 19,
   "id": "9854d217",
   "metadata": {},
   "outputs": [
    {
     "name": "stdout",
     "output_type": "stream",
     "text": [
      "0.9627599548605513\n",
      "0.9601518026565465\n"
     ]
    }
   ],
   "source": [
    "f1score_0=2*((precision_0*recall_0)/(precision_0+recall_0))\n",
    "print(f1score_0)\n",
    "f1score_1=2*((precision_1*recall_1)/(precision_1+recall_1))\n",
    "print(f1score_1)"
   ]
  },
  {
   "cell_type": "code",
   "execution_count": 21,
   "id": "d418b716",
   "metadata": {},
   "outputs": [],
   "source": [
    "support_0=3068\n",
    "support_1=2932"
   ]
  },
  {
   "cell_type": "code",
   "execution_count": 22,
   "id": "c84cd034",
   "metadata": {},
   "outputs": [
    {
     "name": "stdout",
     "output_type": "stream",
     "text": [
      "0.961455878758549\n",
      "0.9614854378168611\n"
     ]
    }
   ],
   "source": [
    "macro_avg=(f1score_0+f1score_1)/2\n",
    "weighted_avg=(f1score_0*support_0+f1score_1*support_1)/(support_1+support_0)\n",
    "print(macro_avg)\n",
    "print(weighted_avg)"
   ]
  },
  {
   "cell_type": "code",
   "execution_count": null,
   "id": "1a53ecc0",
   "metadata": {},
   "outputs": [],
   "source": []
  }
 ],
 "metadata": {
  "kernelspec": {
   "display_name": "Python 3 (ipykernel)",
   "language": "python",
   "name": "python3"
  },
  "language_info": {
   "codemirror_mode": {
    "name": "ipython",
    "version": 3
   },
   "file_extension": ".py",
   "mimetype": "text/x-python",
   "name": "python",
   "nbconvert_exporter": "python",
   "pygments_lexer": "ipython3",
   "version": "3.9.13"
  }
 },
 "nbformat": 4,
 "nbformat_minor": 5
}
